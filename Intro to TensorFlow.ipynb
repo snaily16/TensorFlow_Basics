{
 "cells": [
  {
   "cell_type": "markdown",
   "metadata": {},
   "source": [
    "# Tensorflow Introduction"
   ]
  },
  {
   "cell_type": "markdown",
   "metadata": {},
   "source": [
    "Tensorflow is one of the widely used libraries for implementing Machine learning and other algorithms involving large number of mathematical operations. Tensorflow was developed by Google and it’s one of the most popular Machine Learning libraries on GitHub."
   ]
  },
  {
   "cell_type": "code",
   "execution_count": 13,
   "metadata": {},
   "outputs": [],
   "source": [
    "import tensorflow as tf\n",
    "import numpy as np"
   ]
  },
  {
   "cell_type": "markdown",
   "metadata": {},
   "source": [
    "TensorFlow, as the name indicates, is a framework to define and run computations involving tensors. A tensor is a generalization of vectors and matrices to potentially higher dimensions. Internally, TensorFlow represents tensors as n-dimensional arrays of base datatypes."
   ]
  },
  {
   "cell_type": "markdown",
   "metadata": {},
   "source": [
    "### tf.Tensor"
   ]
  },
  {
   "cell_type": "markdown",
   "metadata": {},
   "source": [
    "A tf.Tensor object represents a partially defined computation that will eventually produce a value. TensorFlow programs work by first building a graph of tf.Tensor objects, detailing how each tensor is computed based on the other available tensors and then by running parts of this graph to achieve the desired results.\n",
    "\n",
    "A tf.Tensor has the following properties:\n",
    "1. a data type(float32, int32, string)\n",
    "2. a shape"
   ]
  },
  {
   "cell_type": "markdown",
   "metadata": {},
   "source": [
    "Some types of tensors are:\n",
    "* tf.Varibale\n",
    "* tf.constant\n",
    "* tf.placeholder\n",
    "* tf.SparseTensor"
   ]
  },
  {
   "cell_type": "markdown",
   "metadata": {},
   "source": [
    "### Print Hello world "
   ]
  },
  {
   "cell_type": "markdown",
   "metadata": {},
   "source": [
    "### tf.constant"
   ]
  },
  {
   "cell_type": "markdown",
   "metadata": {},
   "source": [
    "Creates a constant tensor.\n",
    "\n",
    "The resulting tensor is populated with values of type dtype, as specified by arguments value and (optionally) shape"
   ]
  },
  {
   "cell_type": "code",
   "execution_count": 6,
   "metadata": {},
   "outputs": [],
   "source": [
    "msg = tf.constant(\"Hello World\")\n",
    "t1 = tf.constant([1,2,3,4,5,6,7])\n",
    "t2 = tf.constant(-2, shape=[2,3])\n",
    "t3 = tf.constant(4)"
   ]
  },
  {
   "cell_type": "markdown",
   "metadata": {},
   "source": [
    "### tf.Session"
   ]
  },
  {
   "cell_type": "markdown",
   "metadata": {},
   "source": [
    "A Session object encapsulates the environment in which Operation objects are executed, and Tensor objects are evaluated."
   ]
  },
  {
   "cell_type": "code",
   "execution_count": 7,
   "metadata": {},
   "outputs": [
    {
     "name": "stdout",
     "output_type": "stream",
     "text": [
      "b'Hello World'\n",
      "[1 2 3 4 5 6 7]\n",
      "[[-2 -2 -2]\n",
      " [-2 -2 -2]]\n",
      "4\n"
     ]
    }
   ],
   "source": [
    "#start session\n",
    "sess = tf.Session()\n",
    "print(sess.run(msg))\n",
    "print(sess.run(t1))\n",
    "print(sess.run(t2))\n",
    "print(sess.run(t3))\n",
    "#close session\n",
    "sess.close()"
   ]
  },
  {
   "cell_type": "markdown",
   "metadata": {},
   "source": [
    "### Basic Operations"
   ]
  },
  {
   "cell_type": "code",
   "execution_count": 4,
   "metadata": {},
   "outputs": [],
   "source": [
    "a = tf.constant(2)\n",
    "b = tf.constant(3)"
   ]
  },
  {
   "cell_type": "code",
   "execution_count": 5,
   "metadata": {},
   "outputs": [
    {
     "name": "stdout",
     "output_type": "stream",
     "text": [
      "a: 2 b: 3\n",
      "Addition:  5\n",
      "Multiplication:  6\n"
     ]
    }
   ],
   "source": [
    "with tf.Session() as sess:\n",
    "    print(\"a: %i\"% sess.run(a), \"b: %i\" %sess.run(b))\n",
    "    print(\"Addition: \",sess.run(a+b))\n",
    "    print(\"Multiplication: \",sess.run(a*b))"
   ]
  },
  {
   "cell_type": "markdown",
   "metadata": {},
   "source": [
    "### tf.placeholder "
   ]
  },
  {
   "cell_type": "markdown",
   "metadata": {},
   "source": [
    "Inserts a placeholder for a tensor that will be always fed.\n",
    "A placeholder is simply a variable that will assign data to at a later date."
   ]
  },
  {
   "cell_type": "code",
   "execution_count": 20,
   "metadata": {},
   "outputs": [],
   "source": [
    "x = tf.placeholder(tf.float32, shape=(3,3))\n",
    "y = tf.matmul(x,x)"
   ]
  },
  {
   "cell_type": "code",
   "execution_count": 21,
   "metadata": {},
   "outputs": [
    {
     "name": "stdout",
     "output_type": "stream",
     "text": [
      "[[0.7347388  0.7813669  0.54605985]\n",
      " [0.6552819  1.0428407  0.9772979 ]\n",
      " [1.2315404  1.2146521  1.044431  ]]\n"
     ]
    }
   ],
   "source": [
    "with tf.Session() as sess:\n",
    "    #print(sess.run(y))    will fail because x was not fed\n",
    "    rand_array = np.random.rand(3,3)\n",
    "    print(sess.run(y, feed_dict={x: rand_array}))"
   ]
  },
  {
   "cell_type": "code",
   "execution_count": 22,
   "metadata": {},
   "outputs": [],
   "source": [
    "c = tf.placeholder(tf.int16)\n",
    "d = tf.placeholder(tf.int16)"
   ]
  },
  {
   "cell_type": "code",
   "execution_count": 23,
   "metadata": {},
   "outputs": [],
   "source": [
    "add = tf.add(c,d)\n",
    "mul = tf.multiply(c,d)"
   ]
  },
  {
   "cell_type": "code",
   "execution_count": 24,
   "metadata": {},
   "outputs": [
    {
     "name": "stdout",
     "output_type": "stream",
     "text": [
      "Addition:  7\n",
      "Multiplication:  10\n"
     ]
    }
   ],
   "source": [
    "with tf.Session() as sess:\n",
    "    print(\"Addition: \", sess.run(add, feed_dict={c:2, d:5}))\n",
    "    print(\"Multiplication: \", sess.run(mul, feed_dict={c:2, d:5}))"
   ]
  },
  {
   "cell_type": "markdown",
   "metadata": {},
   "source": [
    "### Matrix Multiplication"
   ]
  },
  {
   "cell_type": "code",
   "execution_count": 29,
   "metadata": {},
   "outputs": [],
   "source": [
    "# Create Constant that produces a 1 x 2 matrix\n",
    "m1 = tf.constant([[3., 3.]])\n",
    "# Create Constant that produces a 2 x 1 matrix\n",
    "m2 = tf.constant([[2.],[2.]])"
   ]
  },
  {
   "cell_type": "markdown",
   "metadata": {},
   "source": [
    "### tf.matmul"
   ]
  },
  {
   "cell_type": "markdown",
   "metadata": {},
   "source": [
    "Multiplies matrix m1 by matrix m2, producing m1 * m2.\n",
    "\n",
    "Both matrices must be of the same type. The supported types are: float16, float32, float64, int32, complex64, complex128.\n",
    "\n",
    "*tf.matmul(\n",
    "    a,\n",
    "    b,\n",
    "    transpose_a=False,\n",
    "    transpose_b=False,\n",
    "    adjoint_a=False,\n",
    "    adjoint_b=False,\n",
    "    a_is_sparse=False,\n",
    "    b_is_sparse=False,\n",
    "    name=None\n",
    ")*"
   ]
  },
  {
   "cell_type": "code",
   "execution_count": 26,
   "metadata": {},
   "outputs": [
    {
     "name": "stdout",
     "output_type": "stream",
     "text": [
      "Result:  [[12.]]\n"
     ]
    }
   ],
   "source": [
    "product = tf.matmul(matrix1, matrix2)\n",
    "with tf.Session() as sess:\n",
    "    print(\"Result: \",sess.run(product))"
   ]
  },
  {
   "cell_type": "markdown",
   "metadata": {},
   "source": [
    "Either matrix can be transposed or adjointed (conjugated and transposed) on the fly by setting one of the corresponding flag to True. These are False by default."
   ]
  },
  {
   "cell_type": "code",
   "execution_count": 28,
   "metadata": {},
   "outputs": [
    {
     "name": "stdout",
     "output_type": "stream",
     "text": [
      "Result:  [[32]]\n"
     ]
    }
   ],
   "source": [
    "# Create two constants that produces a 3 x 1 matrix\n",
    "a = tf.constant([[1],[2],[3]])\n",
    "b = tf.constant([[4],[5],[6]])\n",
    "mul = tf.matmul(a,b, transpose_a = True)   # transpose matrix a\n",
    "with tf.Session() as sess:\n",
    "    print(\"Result: \",sess.run(mul))"
   ]
  },
  {
   "cell_type": "markdown",
   "metadata": {},
   "source": [
    "If one or both of the matrices contain a lot of zeros, a more efficient multiplication algorithm can be used by setting the corresponding a_is_sparse or b_is_sparse flag to True. These are False by default."
   ]
  },
  {
   "cell_type": "code",
   "execution_count": 30,
   "metadata": {},
   "outputs": [
    {
     "name": "stdout",
     "output_type": "stream",
     "text": [
      "Result:  [[ 7  8]\n",
      " [28 32]]\n"
     ]
    }
   ],
   "source": [
    "a = tf.constant([1,2,3,4,5,6], shape=[2,3])\n",
    "b = tf.constant([7,8,0,0,0,0], shape=[3,2])\n",
    "c = tf.matmul(a,b, b_is_sparse=True)\n",
    "with tf.Session() as sess:\n",
    "    print(\"Result: \",sess.run(c))"
   ]
  },
  {
   "cell_type": "markdown",
   "metadata": {},
   "source": [
    "### tf.argmax"
   ]
  },
  {
   "cell_type": "markdown",
   "metadata": {},
   "source": [
    "Returns the index with the largest value across axes of a tensor. \n",
    "\n",
    "*tf.argmax(\n",
    "    input,\n",
    "    axis=None,\n",
    "    name=None,\n",
    "    dimension=None,\n",
    "    output_type=tf.int64\n",
    ")*"
   ]
  },
  {
   "cell_type": "code",
   "execution_count": 38,
   "metadata": {},
   "outputs": [
    {
     "name": "stdout",
     "output_type": "stream",
     "text": [
      "[[34  5 66]\n",
      " [84 23 46]\n",
      " [75 33 67]]\n",
      "Index of largest value across axes:  [1 2 2]\n"
     ]
    }
   ],
   "source": [
    "a = tf.constant([34,5,66,84,23,46,75,33,67], shape=[3,3])\n",
    "argmx = tf.argmax(a)\n",
    "with tf.Session() as sess:\n",
    "    print(sess.run(a))\n",
    "    print(\"Index of largest value across axes: \",sess.run(argmx))"
   ]
  },
  {
   "cell_type": "markdown",
   "metadata": {},
   "source": [
    "### tf.argmin"
   ]
  },
  {
   "cell_type": "markdown",
   "metadata": {},
   "source": [
    "Returns the index with the smallest value across axes of a tensor.\n",
    "\n",
    "*tf.argmin(\n",
    "    input,\n",
    "    axis=None,\n",
    "    name=None,\n",
    "    dimension=None,\n",
    "    output_type=tf.int64\n",
    ")*"
   ]
  },
  {
   "cell_type": "code",
   "execution_count": 37,
   "metadata": {},
   "outputs": [
    {
     "name": "stdout",
     "output_type": "stream",
     "text": [
      "[[34  5 66]\n",
      " [84 23 46]\n",
      " [75 33 67]]\n",
      "Index of smallest value across axes:  [0 0 1]\n"
     ]
    }
   ],
   "source": [
    "argmn = tf.argmin(a)\n",
    "with tf.Session() as sess:\n",
    "    print(sess.run(a))\n",
    "    print(\"Index of smallest value across axes: \",sess.run(argmn))"
   ]
  },
  {
   "cell_type": "markdown",
   "metadata": {},
   "source": [
    "### tf.equal"
   ]
  },
  {
   "cell_type": "markdown",
   "metadata": {},
   "source": [
    "Returns the truth value of (x == y) element-wise.\n",
    "\n",
    "*tf.equal(\n",
    "    x,\n",
    "    y,\n",
    "    name=None\n",
    ")*"
   ]
  },
  {
   "cell_type": "code",
   "execution_count": 43,
   "metadata": {},
   "outputs": [
    {
     "name": "stdout",
     "output_type": "stream",
     "text": [
      "[[1 8 3]\n",
      " [4 5 6]]\n",
      "[[False  True False]\n",
      " [False  True  True]]\n"
     ]
    }
   ],
   "source": [
    "a = tf.constant([1,8,3,4,5,6], shape=[2,3])\n",
    "b = tf.constant([7,8,0,5,5,6], shape=[2,3])\n",
    "equal = tf.equal(a,b)\n",
    "with tf.Session() as sess:\n",
    "    print(sess.run(a))\n",
    "    print(sess.run(equal))"
   ]
  },
  {
   "cell_type": "markdown",
   "metadata": {},
   "source": [
    "### tf.reduce_mean"
   ]
  },
  {
   "cell_type": "markdown",
   "metadata": {},
   "source": [
    "Computes the mean of elements across dimensions of a tensor.\n",
    "\n",
    "*tf.reduce_mean(\n",
    "    input_tensor,\n",
    "    axis=None,\n",
    "    keepdims=None,\n",
    "    name=None,\n",
    "    reduction_indices=None,\n",
    "    keep_dims=None\n",
    ")*"
   ]
  },
  {
   "cell_type": "code",
   "execution_count": 53,
   "metadata": {},
   "outputs": [
    {
     "name": "stdout",
     "output_type": "stream",
     "text": [
      "1.5\n",
      "Column:\n",
      "[1.5 1.5]\n",
      "Row\n",
      "[1. 2.]\n"
     ]
    }
   ],
   "source": [
    "x = tf.constant([[1., 1.],[2., 2.]])\n",
    "mean = tf.reduce_mean(x)    # overall mean\n",
    "mean1 = tf.reduce_mean(x,0)    # mean over column\n",
    "mean2 = tf.reduce_mean(x,1)    # mean over row\n",
    "with tf.Session() as sess:\n",
    "    print(sess.run(mean))\n",
    "    print('Column:')\n",
    "    print(sess.run(mean1))\n",
    "    print('Row')\n",
    "    print(sess.run(mean2))"
   ]
  }
 ],
 "metadata": {
  "kernelspec": {
   "display_name": "Python 3",
   "language": "python",
   "name": "python3"
  },
  "language_info": {
   "codemirror_mode": {
    "name": "ipython",
    "version": 3
   },
   "file_extension": ".py",
   "mimetype": "text/x-python",
   "name": "python",
   "nbconvert_exporter": "python",
   "pygments_lexer": "ipython3",
   "version": "3.6.5"
  }
 },
 "nbformat": 4,
 "nbformat_minor": 2
}
