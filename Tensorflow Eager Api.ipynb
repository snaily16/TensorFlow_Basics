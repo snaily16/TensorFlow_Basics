{
 "cells": [
  {
   "cell_type": "code",
   "execution_count": 1,
   "metadata": {},
   "outputs": [
    {
     "name": "stderr",
     "output_type": "stream",
     "text": [
      "/usr/lib/python3.6/importlib/_bootstrap.py:219: RuntimeWarning: numpy.dtype size changed, may indicate binary incompatibility. Expected 96, got 88\n",
      "  return f(*args, **kwds)\n",
      "/usr/lib/python3.6/importlib/_bootstrap.py:219: RuntimeWarning: numpy.dtype size changed, may indicate binary incompatibility. Expected 96, got 88\n",
      "  return f(*args, **kwds)\n"
     ]
    }
   ],
   "source": [
    "import tensorflow as tf\n",
    "import numpy as np"
   ]
  },
  {
   "cell_type": "markdown",
   "metadata": {},
   "source": [
    "## tf.enable_eager_execution"
   ]
  },
  {
   "cell_type": "markdown",
   "metadata": {},
   "source": [
    "Enables eager execution for the lifetime of this program.\n",
    "\n",
    "With eager execution enabled, TensorFlow functions execute operations immediately as opposed to adding to a graph to be executed later in a tf.Session and return concrete values as opposed to symbolic references to a node in a computational graph."
   ]
  },
  {
   "cell_type": "markdown",
   "metadata": {},
   "source": [
    "*tf.enable_eager_execution(\n",
    "    config=None,\n",
    "    device_policy=None,\n",
    "    execution_mode=None\n",
    ")*"
   ]
  },
  {
   "cell_type": "code",
   "execution_count": 2,
   "metadata": {},
   "outputs": [],
   "source": [
    "#set eager api\n",
    "tf.enable_eager_execution()\n",
    "tfe = tf.contrib.eager"
   ]
  },
  {
   "cell_type": "markdown",
   "metadata": {},
   "source": [
    "#### Running without tf.Session"
   ]
  },
  {
   "cell_type": "code",
   "execution_count": 3,
   "metadata": {},
   "outputs": [
    {
     "data": {
      "text/plain": [
       "42"
      ]
     },
     "execution_count": 3,
     "metadata": {},
     "output_type": "execute_result"
    }
   ],
   "source": [
    "tf.multiply(6,7).numpy()"
   ]
  },
  {
   "cell_type": "code",
   "execution_count": 4,
   "metadata": {},
   "outputs": [
    {
     "name": "stdout",
     "output_type": "stream",
     "text": [
      "a: 2\n",
      "b: 3\n"
     ]
    }
   ],
   "source": [
    "#Define constant tensors\n",
    "a = tf.constant(2)\n",
    "b = tf.constant(3)\n",
    "print(\"a: %i\" % a)\n",
    "print(\"b: %i\" % b)"
   ]
  },
  {
   "cell_type": "code",
   "execution_count": 5,
   "metadata": {},
   "outputs": [
    {
     "name": "stdout",
     "output_type": "stream",
     "text": [
      "Add: 5\n",
      "Multiply: 6\n"
     ]
    }
   ],
   "source": [
    "# run operation\n",
    "c = a + b\n",
    "print(\"Add: %i\" %c)\n",
    "d = a * b\n",
    "print(\"Multiply: %i\" %d)"
   ]
  },
  {
   "cell_type": "code",
   "execution_count": 6,
   "metadata": {},
   "outputs": [
    {
     "name": "stdout",
     "output_type": "stream",
     "text": [
      "Tensor a = \n",
      " tf.Tensor(\n",
      "[[2. 1.]\n",
      " [1. 0.]], shape=(2, 2), dtype=float32)\n",
      "Numpy array b =\n",
      " [[3. 0.]\n",
      " [5. 1.]]\n"
     ]
    }
   ],
   "source": [
    "#Tensors and numpy arrays\n",
    "m1 = tf.constant([[2.,1.], [1.,0.]], dtype= tf.float32)\n",
    "m2 = np.array([[3.,0.],[5.,1.]], dtype = np.float32)\n",
    "print(\"Tensor a = \\n %s\" %m1)\n",
    "print(\"Numpy array b =\\n %s\" %m2)"
   ]
  },
  {
   "cell_type": "code",
   "execution_count": 7,
   "metadata": {},
   "outputs": [
    {
     "name": "stdout",
     "output_type": "stream",
     "text": [
      "tf.Tensor(\n",
      "[[5. 1.]\n",
      " [6. 1.]], shape=(2, 2), dtype=float32)\n"
     ]
    }
   ],
   "source": [
    "# matrix addition\n",
    "m_add = m1 + m2\n",
    "print(m_add)"
   ]
  },
  {
   "cell_type": "code",
   "execution_count": 8,
   "metadata": {},
   "outputs": [
    {
     "name": "stdout",
     "output_type": "stream",
     "text": [
      "tf.Tensor(\n",
      "[[11.  1.]\n",
      " [ 3.  0.]], shape=(2, 2), dtype=float32)\n"
     ]
    }
   ],
   "source": [
    "# matrix multiplication\n",
    "m_mul = tf.matmul(m1,m2)\n",
    "print(m_mul)"
   ]
  },
  {
   "cell_type": "code",
   "execution_count": 13,
   "metadata": {},
   "outputs": [
    {
     "name": "stdout",
     "output_type": "stream",
     "text": [
      "Index of largest values accross axes: tf.Tensor([1 2 2], shape=(3,), dtype=int64)\n"
     ]
    }
   ],
   "source": [
    "a = tf.constant([34,5,66,84,23,46,75,33,67], shape=[3,3])\n",
    "a_max = tf.argmax(a)\n",
    "print(\"Index of largest values accross axes: %s\" %a_max)"
   ]
  },
  {
   "cell_type": "code",
   "execution_count": 14,
   "metadata": {},
   "outputs": [
    {
     "name": "stdout",
     "output_type": "stream",
     "text": [
      "Index of smallest values accross axes: tf.Tensor([0 0 1], shape=(3,), dtype=int64)\n"
     ]
    }
   ],
   "source": [
    "a_min = tf.argmin(a)\n",
    "print(\"Index of smallest values accross axes: %s\" %a_min)"
   ]
  }
 ],
 "metadata": {
  "kernelspec": {
   "display_name": "Python 3",
   "language": "python",
   "name": "python3"
  },
  "language_info": {
   "codemirror_mode": {
    "name": "ipython",
    "version": 3
   },
   "file_extension": ".py",
   "mimetype": "text/x-python",
   "name": "python",
   "nbconvert_exporter": "python",
   "pygments_lexer": "ipython3",
   "version": "3.6.5"
  }
 },
 "nbformat": 4,
 "nbformat_minor": 2
}
